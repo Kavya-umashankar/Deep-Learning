{
 "cells": [
  {
   "cell_type": "markdown",
   "id": "f411ab31",
   "metadata": {},
   "source": [
    "## DATA:\n",
    "https://www.kaggle.com/c/digit-recognizer \n",
    " \n"
   ]
  },
  {
   "cell_type": "code",
   "execution_count": 1,
   "id": "c7d20ff2",
   "metadata": {},
   "outputs": [],
   "source": [
    "import pandas as pd\n",
    "import numpy as np\n",
    "%matplotlib inline\n",
    "import matplotlib as mpl\n",
    "import matplotlib.pyplot as plt\n",
    "mpl.rc('axes', labelsize=14)\n",
    "mpl.rc('xtick', labelsize=12)\n",
    "mpl.rc('ytick', labelsize=12)\n",
    "\n",
    "import os\n",
    "\n",
    "import sklearn\n",
    "assert sklearn.__version__ >= \"0.20\"\n",
    "from sklearn.preprocessing import StandardScaler\n",
    "from sklearn.model_selection import train_test_split\n",
    "\n",
    "import tensorflow as tf\n",
    "from tensorflow import keras\n",
    "import tensorflow.keras.backend as tfbckend\n",
    "from keras.layers.core import  Lambda , Dense, Flatten, Dropout\n",
    "from tensorflow.keras.optimizers import RMSprop\n",
    "from tensorflow.keras.optimizers import SGD\n"
   ]
  },
  {
   "cell_type": "code",
   "execution_count": 2,
   "id": "72e3f6ad",
   "metadata": {},
   "outputs": [],
   "source": [
    "np.random.seed(42)\n",
    "tf.random.set_seed(42)"
   ]
  },
  {
   "cell_type": "code",
   "execution_count": 3,
   "id": "a2aa86a8",
   "metadata": {
    "scrolled": false
   },
   "outputs": [
    {
     "data": {
      "text/html": [
       "<div>\n",
       "<style scoped>\n",
       "    .dataframe tbody tr th:only-of-type {\n",
       "        vertical-align: middle;\n",
       "    }\n",
       "\n",
       "    .dataframe tbody tr th {\n",
       "        vertical-align: top;\n",
       "    }\n",
       "\n",
       "    .dataframe thead th {\n",
       "        text-align: right;\n",
       "    }\n",
       "</style>\n",
       "<table border=\"1\" class=\"dataframe\">\n",
       "  <thead>\n",
       "    <tr style=\"text-align: right;\">\n",
       "      <th></th>\n",
       "      <th>label</th>\n",
       "      <th>pixel0</th>\n",
       "      <th>pixel1</th>\n",
       "      <th>pixel2</th>\n",
       "      <th>pixel3</th>\n",
       "      <th>pixel4</th>\n",
       "      <th>pixel5</th>\n",
       "      <th>pixel6</th>\n",
       "      <th>pixel7</th>\n",
       "      <th>pixel8</th>\n",
       "      <th>...</th>\n",
       "      <th>pixel774</th>\n",
       "      <th>pixel775</th>\n",
       "      <th>pixel776</th>\n",
       "      <th>pixel777</th>\n",
       "      <th>pixel778</th>\n",
       "      <th>pixel779</th>\n",
       "      <th>pixel780</th>\n",
       "      <th>pixel781</th>\n",
       "      <th>pixel782</th>\n",
       "      <th>pixel783</th>\n",
       "    </tr>\n",
       "  </thead>\n",
       "  <tbody>\n",
       "    <tr>\n",
       "      <th>0</th>\n",
       "      <td>1</td>\n",
       "      <td>0</td>\n",
       "      <td>0</td>\n",
       "      <td>0</td>\n",
       "      <td>0</td>\n",
       "      <td>0</td>\n",
       "      <td>0</td>\n",
       "      <td>0</td>\n",
       "      <td>0</td>\n",
       "      <td>0</td>\n",
       "      <td>...</td>\n",
       "      <td>0</td>\n",
       "      <td>0</td>\n",
       "      <td>0</td>\n",
       "      <td>0</td>\n",
       "      <td>0</td>\n",
       "      <td>0</td>\n",
       "      <td>0</td>\n",
       "      <td>0</td>\n",
       "      <td>0</td>\n",
       "      <td>0</td>\n",
       "    </tr>\n",
       "    <tr>\n",
       "      <th>1</th>\n",
       "      <td>0</td>\n",
       "      <td>0</td>\n",
       "      <td>0</td>\n",
       "      <td>0</td>\n",
       "      <td>0</td>\n",
       "      <td>0</td>\n",
       "      <td>0</td>\n",
       "      <td>0</td>\n",
       "      <td>0</td>\n",
       "      <td>0</td>\n",
       "      <td>...</td>\n",
       "      <td>0</td>\n",
       "      <td>0</td>\n",
       "      <td>0</td>\n",
       "      <td>0</td>\n",
       "      <td>0</td>\n",
       "      <td>0</td>\n",
       "      <td>0</td>\n",
       "      <td>0</td>\n",
       "      <td>0</td>\n",
       "      <td>0</td>\n",
       "    </tr>\n",
       "    <tr>\n",
       "      <th>2</th>\n",
       "      <td>1</td>\n",
       "      <td>0</td>\n",
       "      <td>0</td>\n",
       "      <td>0</td>\n",
       "      <td>0</td>\n",
       "      <td>0</td>\n",
       "      <td>0</td>\n",
       "      <td>0</td>\n",
       "      <td>0</td>\n",
       "      <td>0</td>\n",
       "      <td>...</td>\n",
       "      <td>0</td>\n",
       "      <td>0</td>\n",
       "      <td>0</td>\n",
       "      <td>0</td>\n",
       "      <td>0</td>\n",
       "      <td>0</td>\n",
       "      <td>0</td>\n",
       "      <td>0</td>\n",
       "      <td>0</td>\n",
       "      <td>0</td>\n",
       "    </tr>\n",
       "    <tr>\n",
       "      <th>3</th>\n",
       "      <td>4</td>\n",
       "      <td>0</td>\n",
       "      <td>0</td>\n",
       "      <td>0</td>\n",
       "      <td>0</td>\n",
       "      <td>0</td>\n",
       "      <td>0</td>\n",
       "      <td>0</td>\n",
       "      <td>0</td>\n",
       "      <td>0</td>\n",
       "      <td>...</td>\n",
       "      <td>0</td>\n",
       "      <td>0</td>\n",
       "      <td>0</td>\n",
       "      <td>0</td>\n",
       "      <td>0</td>\n",
       "      <td>0</td>\n",
       "      <td>0</td>\n",
       "      <td>0</td>\n",
       "      <td>0</td>\n",
       "      <td>0</td>\n",
       "    </tr>\n",
       "    <tr>\n",
       "      <th>4</th>\n",
       "      <td>0</td>\n",
       "      <td>0</td>\n",
       "      <td>0</td>\n",
       "      <td>0</td>\n",
       "      <td>0</td>\n",
       "      <td>0</td>\n",
       "      <td>0</td>\n",
       "      <td>0</td>\n",
       "      <td>0</td>\n",
       "      <td>0</td>\n",
       "      <td>...</td>\n",
       "      <td>0</td>\n",
       "      <td>0</td>\n",
       "      <td>0</td>\n",
       "      <td>0</td>\n",
       "      <td>0</td>\n",
       "      <td>0</td>\n",
       "      <td>0</td>\n",
       "      <td>0</td>\n",
       "      <td>0</td>\n",
       "      <td>0</td>\n",
       "    </tr>\n",
       "  </tbody>\n",
       "</table>\n",
       "<p>5 rows × 785 columns</p>\n",
       "</div>"
      ],
      "text/plain": [
       "   label  pixel0  pixel1  pixel2  pixel3  pixel4  pixel5  pixel6  pixel7  \\\n",
       "0      1       0       0       0       0       0       0       0       0   \n",
       "1      0       0       0       0       0       0       0       0       0   \n",
       "2      1       0       0       0       0       0       0       0       0   \n",
       "3      4       0       0       0       0       0       0       0       0   \n",
       "4      0       0       0       0       0       0       0       0       0   \n",
       "\n",
       "   pixel8  ...  pixel774  pixel775  pixel776  pixel777  pixel778  pixel779  \\\n",
       "0       0  ...         0         0         0         0         0         0   \n",
       "1       0  ...         0         0         0         0         0         0   \n",
       "2       0  ...         0         0         0         0         0         0   \n",
       "3       0  ...         0         0         0         0         0         0   \n",
       "4       0  ...         0         0         0         0         0         0   \n",
       "\n",
       "   pixel780  pixel781  pixel782  pixel783  \n",
       "0         0         0         0         0  \n",
       "1         0         0         0         0  \n",
       "2         0         0         0         0  \n",
       "3         0         0         0         0  \n",
       "4         0         0         0         0  \n",
       "\n",
       "[5 rows x 785 columns]"
      ]
     },
     "execution_count": 3,
     "metadata": {},
     "output_type": "execute_result"
    }
   ],
   "source": [
    "Originaldata = pd.read_csv(\"Data/train.csv\")\n",
    "header_cols = Originaldata.columns\n",
    "Originaldata.head()"
   ]
  },
  {
   "cell_type": "code",
   "execution_count": 4,
   "id": "43979003",
   "metadata": {
    "scrolled": true
   },
   "outputs": [
    {
     "data": {
      "text/html": [
       "<div>\n",
       "<style scoped>\n",
       "    .dataframe tbody tr th:only-of-type {\n",
       "        vertical-align: middle;\n",
       "    }\n",
       "\n",
       "    .dataframe tbody tr th {\n",
       "        vertical-align: top;\n",
       "    }\n",
       "\n",
       "    .dataframe thead th {\n",
       "        text-align: right;\n",
       "    }\n",
       "</style>\n",
       "<table border=\"1\" class=\"dataframe\">\n",
       "  <thead>\n",
       "    <tr style=\"text-align: right;\">\n",
       "      <th></th>\n",
       "      <th>pixel0</th>\n",
       "      <th>pixel1</th>\n",
       "      <th>pixel2</th>\n",
       "      <th>pixel3</th>\n",
       "      <th>pixel4</th>\n",
       "      <th>pixel5</th>\n",
       "      <th>pixel6</th>\n",
       "      <th>pixel7</th>\n",
       "      <th>pixel8</th>\n",
       "      <th>pixel9</th>\n",
       "      <th>...</th>\n",
       "      <th>pixel774</th>\n",
       "      <th>pixel775</th>\n",
       "      <th>pixel776</th>\n",
       "      <th>pixel777</th>\n",
       "      <th>pixel778</th>\n",
       "      <th>pixel779</th>\n",
       "      <th>pixel780</th>\n",
       "      <th>pixel781</th>\n",
       "      <th>pixel782</th>\n",
       "      <th>pixel783</th>\n",
       "    </tr>\n",
       "  </thead>\n",
       "  <tbody>\n",
       "    <tr>\n",
       "      <th>0</th>\n",
       "      <td>0.0</td>\n",
       "      <td>0.0</td>\n",
       "      <td>0.0</td>\n",
       "      <td>0.0</td>\n",
       "      <td>0.0</td>\n",
       "      <td>0.0</td>\n",
       "      <td>0.0</td>\n",
       "      <td>0.0</td>\n",
       "      <td>0.0</td>\n",
       "      <td>0.0</td>\n",
       "      <td>...</td>\n",
       "      <td>0.0</td>\n",
       "      <td>0.0</td>\n",
       "      <td>0.0</td>\n",
       "      <td>0.0</td>\n",
       "      <td>0.0</td>\n",
       "      <td>0.0</td>\n",
       "      <td>0.0</td>\n",
       "      <td>0.0</td>\n",
       "      <td>0.0</td>\n",
       "      <td>0.0</td>\n",
       "    </tr>\n",
       "    <tr>\n",
       "      <th>1</th>\n",
       "      <td>0.0</td>\n",
       "      <td>0.0</td>\n",
       "      <td>0.0</td>\n",
       "      <td>0.0</td>\n",
       "      <td>0.0</td>\n",
       "      <td>0.0</td>\n",
       "      <td>0.0</td>\n",
       "      <td>0.0</td>\n",
       "      <td>0.0</td>\n",
       "      <td>0.0</td>\n",
       "      <td>...</td>\n",
       "      <td>0.0</td>\n",
       "      <td>0.0</td>\n",
       "      <td>0.0</td>\n",
       "      <td>0.0</td>\n",
       "      <td>0.0</td>\n",
       "      <td>0.0</td>\n",
       "      <td>0.0</td>\n",
       "      <td>0.0</td>\n",
       "      <td>0.0</td>\n",
       "      <td>0.0</td>\n",
       "    </tr>\n",
       "    <tr>\n",
       "      <th>2</th>\n",
       "      <td>0.0</td>\n",
       "      <td>0.0</td>\n",
       "      <td>0.0</td>\n",
       "      <td>0.0</td>\n",
       "      <td>0.0</td>\n",
       "      <td>0.0</td>\n",
       "      <td>0.0</td>\n",
       "      <td>0.0</td>\n",
       "      <td>0.0</td>\n",
       "      <td>0.0</td>\n",
       "      <td>...</td>\n",
       "      <td>0.0</td>\n",
       "      <td>0.0</td>\n",
       "      <td>0.0</td>\n",
       "      <td>0.0</td>\n",
       "      <td>0.0</td>\n",
       "      <td>0.0</td>\n",
       "      <td>0.0</td>\n",
       "      <td>0.0</td>\n",
       "      <td>0.0</td>\n",
       "      <td>0.0</td>\n",
       "    </tr>\n",
       "    <tr>\n",
       "      <th>3</th>\n",
       "      <td>0.0</td>\n",
       "      <td>0.0</td>\n",
       "      <td>0.0</td>\n",
       "      <td>0.0</td>\n",
       "      <td>0.0</td>\n",
       "      <td>0.0</td>\n",
       "      <td>0.0</td>\n",
       "      <td>0.0</td>\n",
       "      <td>0.0</td>\n",
       "      <td>0.0</td>\n",
       "      <td>...</td>\n",
       "      <td>0.0</td>\n",
       "      <td>0.0</td>\n",
       "      <td>0.0</td>\n",
       "      <td>0.0</td>\n",
       "      <td>0.0</td>\n",
       "      <td>0.0</td>\n",
       "      <td>0.0</td>\n",
       "      <td>0.0</td>\n",
       "      <td>0.0</td>\n",
       "      <td>0.0</td>\n",
       "    </tr>\n",
       "    <tr>\n",
       "      <th>4</th>\n",
       "      <td>0.0</td>\n",
       "      <td>0.0</td>\n",
       "      <td>0.0</td>\n",
       "      <td>0.0</td>\n",
       "      <td>0.0</td>\n",
       "      <td>0.0</td>\n",
       "      <td>0.0</td>\n",
       "      <td>0.0</td>\n",
       "      <td>0.0</td>\n",
       "      <td>0.0</td>\n",
       "      <td>...</td>\n",
       "      <td>0.0</td>\n",
       "      <td>0.0</td>\n",
       "      <td>0.0</td>\n",
       "      <td>0.0</td>\n",
       "      <td>0.0</td>\n",
       "      <td>0.0</td>\n",
       "      <td>0.0</td>\n",
       "      <td>0.0</td>\n",
       "      <td>0.0</td>\n",
       "      <td>0.0</td>\n",
       "    </tr>\n",
       "  </tbody>\n",
       "</table>\n",
       "<p>5 rows × 784 columns</p>\n",
       "</div>"
      ],
      "text/plain": [
       "   pixel0  pixel1  pixel2  pixel3  pixel4  pixel5  pixel6  pixel7  pixel8  \\\n",
       "0     0.0     0.0     0.0     0.0     0.0     0.0     0.0     0.0     0.0   \n",
       "1     0.0     0.0     0.0     0.0     0.0     0.0     0.0     0.0     0.0   \n",
       "2     0.0     0.0     0.0     0.0     0.0     0.0     0.0     0.0     0.0   \n",
       "3     0.0     0.0     0.0     0.0     0.0     0.0     0.0     0.0     0.0   \n",
       "4     0.0     0.0     0.0     0.0     0.0     0.0     0.0     0.0     0.0   \n",
       "\n",
       "   pixel9  ...  pixel774  pixel775  pixel776  pixel777  pixel778  pixel779  \\\n",
       "0     0.0  ...       0.0       0.0       0.0       0.0       0.0       0.0   \n",
       "1     0.0  ...       0.0       0.0       0.0       0.0       0.0       0.0   \n",
       "2     0.0  ...       0.0       0.0       0.0       0.0       0.0       0.0   \n",
       "3     0.0  ...       0.0       0.0       0.0       0.0       0.0       0.0   \n",
       "4     0.0  ...       0.0       0.0       0.0       0.0       0.0       0.0   \n",
       "\n",
       "   pixel780  pixel781  pixel782  pixel783  \n",
       "0       0.0       0.0       0.0       0.0  \n",
       "1       0.0       0.0       0.0       0.0  \n",
       "2       0.0       0.0       0.0       0.0  \n",
       "3       0.0       0.0       0.0       0.0  \n",
       "4       0.0       0.0       0.0       0.0  \n",
       "\n",
       "[5 rows x 784 columns]"
      ]
     },
     "execution_count": 4,
     "metadata": {},
     "output_type": "execute_result"
    }
   ],
   "source": [
    "test = pd.read_csv(\"Data/test.csv\")\n",
    "test = np.multiply(test, 1.0 / 255.0)\n",
    "test.head()"
   ]
  },
  {
   "cell_type": "code",
   "execution_count": 5,
   "id": "7e63fe74",
   "metadata": {},
   "outputs": [
    {
     "data": {
      "text/plain": [
       "(42000, 784)"
      ]
     },
     "execution_count": 5,
     "metadata": {},
     "output_type": "execute_result"
    }
   ],
   "source": [
    "X= Originaldata.iloc[:,1:].values.astype('float32')\n",
    "X = np.multiply(X, 1.0 / 255.0)\n",
    "y = Originaldata.iloc[:,0]\n",
    "X.shape"
   ]
  },
  {
   "cell_type": "code",
   "execution_count": 6,
   "id": "8901ad19",
   "metadata": {
    "scrolled": true
   },
   "outputs": [
    {
     "data": {
      "text/plain": [
       "0    1\n",
       "1    0\n",
       "2    1\n",
       "3    4\n",
       "4    0\n",
       "Name: label, dtype: int64"
      ]
     },
     "execution_count": 6,
     "metadata": {},
     "output_type": "execute_result"
    }
   ],
   "source": [
    "y.head()"
   ]
  },
  {
   "cell_type": "code",
   "execution_count": 7,
   "id": "e9a2e337",
   "metadata": {},
   "outputs": [],
   "source": [
    "x_train_full, x_test, y_train_full, y_test = train_test_split(\n",
    "   X, y,test_size=0.2)\n",
    "x_train, x_valid, y_train, y_valid = train_test_split(\n",
    "    x_train_full, y_train_full,test_size=0.2)"
   ]
  },
  {
   "cell_type": "code",
   "execution_count": 8,
   "id": "fa896111",
   "metadata": {
    "scrolled": true
   },
   "outputs": [
    {
     "name": "stdout",
     "output_type": "stream",
     "text": [
      "x_train shape: (26880, 784)\n",
      "y_train shape: (26880,)\n",
      "x_valid shape: (6720, 784)\n",
      "y_valid shape: (6720,)\n",
      "x_test(train.csv) shape: (8400, 784)\n",
      "y_test(train.csv) shape: (8400,)\n",
      "test (test.csv) shape: (28000, 784)\n"
     ]
    }
   ],
   "source": [
    "print(\"x_train shape:\",x_train.shape)\n",
    "print(\"y_train shape:\",y_train.shape)\n",
    "print(\"x_valid shape:\",x_valid.shape)\n",
    "print(\"y_valid shape:\",y_valid.shape)\n",
    "print(\"x_test(train.csv) shape:\",x_test.shape)\n",
    "print(\"y_test(train.csv) shape:\",y_test.shape)\n",
    "print(\"test (test.csv) shape:\",test.shape)"
   ]
  },
  {
   "cell_type": "code",
   "execution_count": 9,
   "id": "6c87eba9",
   "metadata": {},
   "outputs": [],
   "source": [
    "def save_to_multiple_csv_files(data, name_prefix, header=None, n_parts=10):\n",
    "    data_dir = os.path.join(\"datasets\", \"Digit recogniser\")\n",
    "    os.makedirs(data_dir, exist_ok=True)\n",
    "    path_format = os.path.join(data_dir, \"my_{}_{:02d}.csv\")\n",
    "\n",
    "    filepaths = []\n",
    "    m = len(data)\n",
    "    for file_idx, row_indices in enumerate(np.array_split(np.arange(m), n_parts)):\n",
    "        part_csv = path_format.format(name_prefix, file_idx)\n",
    "        filepaths.append(part_csv)\n",
    "        with open(part_csv, \"wt\", encoding=\"utf-8\") as f:\n",
    "            if header is not None:\n",
    "                f.write(header)\n",
    "                f.write(\"\\n\")\n",
    "            for row_idx in row_indices:\n",
    "                f.write(\",\".join([repr(col) for col in data[row_idx]]))\n",
    "                f.write(\"\\n\")\n",
    "    return filepaths"
   ]
  },
  {
   "cell_type": "code",
   "execution_count": 10,
   "id": "1907e802",
   "metadata": {},
   "outputs": [],
   "source": [
    "train_data = np.c_[x_train, y_train]\n",
    "valid_data = np.c_[x_valid, y_valid]\n",
    "test_data = np.c_[x_test, y_test]\n",
    "\n",
    "header = \",\".join(header_cols)\n",
    "\n",
    "train_filepaths = save_to_multiple_csv_files(train_data, \"train\", header, n_parts=6)\n",
    "valid_filepaths = save_to_multiple_csv_files(valid_data, \"valid\", header, n_parts=3)\n",
    "test_filepaths = save_to_multiple_csv_files(test_data, \"test\", header, n_parts=3)"
   ]
  },
  {
   "cell_type": "code",
   "execution_count": 11,
   "id": "4ae87316",
   "metadata": {},
   "outputs": [
    {
     "name": "stdout",
     "output_type": "stream",
     "text": [
      "WARNING:tensorflow:From C:\\Users\\kavya\\anaconda3\\lib\\site-packages\\tensorflow\\python\\autograph\\pyct\\static_analysis\\liveness.py:83: Analyzer.lamba_check (from tensorflow.python.autograph.pyct.static_analysis.liveness) is deprecated and will be removed after 2023-09-23.\n",
      "Instructions for updating:\n",
      "Lambda fuctions will be no more assumed to be used in the statement where they are used, or at least in the same block. https://github.com/tensorflow/tensorflow/issues/56089\n"
     ]
    }
   ],
   "source": [
    "n_readers = 5\n",
    "filepath_dataset = tf.data.Dataset.list_files(train_filepaths, seed=42)\n",
    "dataset = filepath_dataset.interleave(\n",
    "    lambda filepath: tf.data.TextLineDataset(filepath).skip(1), # skip the header row\n",
    "    cycle_length=n_readers)"
   ]
  },
  {
   "cell_type": "code",
   "execution_count": 12,
   "id": "6eff289b",
   "metadata": {},
   "outputs": [],
   "source": [
    "def preprocess(line):\n",
    "    defs = [0.] * n_inputs + [tf.constant([], dtype=tf.float32)]\n",
    "    fields = tf.io.decode_csv(line, record_defaults=defs)\n",
    "    x = tf.stack(fields[1:])\n",
    "    y = tf.stack(fields[1])\n",
    "    x = x.reshape(x.shape[0],28,28)\n",
    "\n",
    "    return x, y\n",
    "\n",
    "def csv_reader_dataset(filepaths, repeat=1, n_readers=6,  # number of files or filepaths\n",
    "                       n_read_threads=None, shuffle_buffer_size=10000,\n",
    "                       n_parse_threads=5, batch_size=32):\n",
    "    \n",
    "    # pick multiple files randomly and read them simultaneously, interleaving their records\n",
    "    # list_files() function returns a dataset that \"shuffles\" the file paths, then repeat 'repeat' times\n",
    "    dataset = tf.data.Dataset.list_files(filepaths).repeat(repeat)\n",
    "    \n",
    "    \n",
    "    \n",
    "    # interleave() method to read from cycle_length(=n_readers) files at a time and\n",
    "    # \"interleave their lines\" (called cycle) : reading one line at a time from each until all datasets are out of items\n",
    "    # Then it will get the next five file paths from the 'dataset' and interleave them the same way,\n",
    "    # and so on until it runs out of file paths\n",
    "    dataset = dataset.interleave(\n",
    "        lambda filepath: tf.data.TextLineDataset(filepath).skip(1), # skip the header row via map_func\n",
    "        cycle_length=n_readers, # 'interleave' pull cycle_length(=n_readers) file paths(1 by 1) from the 'dataset'\n",
    "        num_parallel_calls=n_read_threads) \n",
    "    #and for each one(filepath) it will call the function you gave it(lambda) to create a new dataset(TextLineDataset)\n",
    "    #the interleave dataset including cycle_length(=n_readers) datasets\n",
    "    \n",
    "    \n",
    "    # Then on top of that you can add a shuffling buffer using the shuffle() method\n",
    "    dataset = dataset.shuffle(shuffle_buffer_size)\n",
    "    dataset = dataset.map(preprocess, num_parallel_calls=n_parse_threads)  # call preprocess()\n",
    "    dataset = dataset.batch(batch_size) #group the items of the previous dataset in batches of 'batch_size' items\n",
    "    \n",
    "    \n",
    "    # See the notes below\n",
    "    return dataset.prefetch(1)"
   ]
  },
  {
   "cell_type": "code",
   "execution_count": 13,
   "id": "bee5320d",
   "metadata": {},
   "outputs": [],
   "source": [
    "x_train = x_train.reshape(x_train.shape[0],28,28)\n",
    "x_valid = x_valid.reshape(x_valid.shape[0],28,28)\n",
    "x_test = x_test.reshape(x_test.shape[0],28,28)"
   ]
  },
  {
   "cell_type": "code",
   "execution_count": 14,
   "id": "b66b7149",
   "metadata": {},
   "outputs": [],
   "source": [
    "#custom intilizers, activation functions, regulizers, early stoppping constraint\n",
    "def he_initialization(shape,dtype=tf.float32):\n",
    "    stddev=tf.sqrt(2. /shape[0])\n",
    "    return tf.random.normal(shape, stddev=stddev, dtype=dtype)\n",
    "\n",
    "\n",
    "def my_elu(z,alpha=0.01):\n",
    "    return tfbckend.switch(tfbckend.greater(z, 0), z, tfbckend.exp(tfbckend.minimum(z, 0.)) - 1)\n",
    "\n",
    "def my_leaky_relu(z, alpha=0.01):\n",
    "    return tfbckend.maximum(alpha*z, z)\n",
    "\n",
    "\n",
    "from scipy.special import erfc\n",
    "\n",
    "# alpha and scale to self normalize with mean 0 and standard deviation 1\n",
    "# (see equation 14 in the paper):\n",
    "alpha_0_1 = -np.sqrt(2 / np.pi) / (erfc(1/np.sqrt(2)) * np.exp(1/2) - 1)\n",
    "scale_0_1 = (1 - erfc(1 / np.sqrt(2)) * np.sqrt(np.e)) * np.sqrt(2 * np.pi) * (2 * erfc(np.sqrt(2))*np.e**2 + np.pi*erfc(1/np.sqrt(2))**2*np.e - 2*(2+np.pi)*erfc(1/np.sqrt(2))*np.sqrt(np.e)+np.pi+2)**(-1/2)\n",
    "def my_selu(z, scale=scale_0_1, alpha=alpha_0_1):\n",
    "    return scale * my_elu(z, alpha)\n",
    "\n",
    "def my_l1_regularizer(weights):\n",
    "    return tf.reduce_sum(tf.abs(0.01 * weights))\n",
    "\n",
    "early_stopping= keras.callbacks.EarlyStopping(patience=10,\n",
    "                                                  restore_best_weights=True)"
   ]
  },
  {
   "cell_type": "code",
   "execution_count": 15,
   "id": "335fe91a",
   "metadata": {},
   "outputs": [],
   "source": [
    "mean = np.mean(x_train, axis=0)\n",
    "std = np.std(x_train, axis=0)\n",
    "eps = keras.backend.epsilon()"
   ]
  },
  {
   "cell_type": "code",
   "execution_count": 16,
   "id": "d3166806",
   "metadata": {},
   "outputs": [],
   "source": [
    "keras.backend.clear_session()\n",
    "\n",
    "model = keras.models.Sequential([\n",
    "    keras.layers.Lambda(lambda inputs: inputs - mean,input_shape=[28,28]),\n",
    "    Flatten(),\n",
    "    keras.layers.Dense(352, activation=my_leaky_relu,kernel_initializer=he_initialization),\n",
    "    keras.layers.BatchNormalization(),\n",
    "    keras.layers.Dense(128, activation=my_leaky_relu,kernel_initializer=he_initialization),\n",
    "    keras.layers.BatchNormalization(),\n",
    "    keras.layers.Dense(64, activation=my_leaky_relu,kernel_initializer=he_initialization),\n",
    "    keras.layers.BatchNormalization(),\n",
    "    keras.layers.Dense(10, activation=\"softmax\")\n",
    "])"
   ]
  },
  {
   "cell_type": "code",
   "execution_count": 17,
   "id": "bb30faf1",
   "metadata": {},
   "outputs": [],
   "source": [
    "model.compile(loss=\"sparse_categorical_crossentropy\",\n",
    "              optimizer=\"sgd\",\n",
    "              metrics=[\"accuracy\"])"
   ]
  },
  {
   "cell_type": "code",
   "execution_count": 18,
   "id": "c20b499c",
   "metadata": {
    "scrolled": true
   },
   "outputs": [
    {
     "name": "stdout",
     "output_type": "stream",
     "text": [
      "Epoch 1/30\n",
      "840/840 [==============================] - 3s 3ms/step - loss: 0.5108 - accuracy: 0.8496 - val_loss: 0.2420 - val_accuracy: 0.9265\n",
      "Epoch 2/30\n",
      "840/840 [==============================] - 2s 3ms/step - loss: 0.2300 - accuracy: 0.9355 - val_loss: 0.1814 - val_accuracy: 0.9466\n",
      "Epoch 3/30\n",
      "840/840 [==============================] - 2s 3ms/step - loss: 0.1703 - accuracy: 0.9500 - val_loss: 0.1556 - val_accuracy: 0.9567\n",
      "Epoch 4/30\n",
      "840/840 [==============================] - 2s 3ms/step - loss: 0.1364 - accuracy: 0.9606 - val_loss: 0.1403 - val_accuracy: 0.9591\n",
      "Epoch 5/30\n",
      "840/840 [==============================] - 2s 3ms/step - loss: 0.1118 - accuracy: 0.9694 - val_loss: 0.1317 - val_accuracy: 0.9626\n",
      "Epoch 6/30\n",
      "840/840 [==============================] - 2s 3ms/step - loss: 0.0929 - accuracy: 0.9738 - val_loss: 0.1267 - val_accuracy: 0.9646\n",
      "Epoch 7/30\n",
      "840/840 [==============================] - 2s 3ms/step - loss: 0.0779 - accuracy: 0.9795 - val_loss: 0.1209 - val_accuracy: 0.9650\n",
      "Epoch 8/30\n",
      "840/840 [==============================] - 2s 3ms/step - loss: 0.0652 - accuracy: 0.9826 - val_loss: 0.1173 - val_accuracy: 0.9662\n",
      "Epoch 9/30\n",
      "840/840 [==============================] - 2s 3ms/step - loss: 0.0554 - accuracy: 0.9855 - val_loss: 0.1148 - val_accuracy: 0.9667\n",
      "Epoch 10/30\n",
      "840/840 [==============================] - 2s 3ms/step - loss: 0.0513 - accuracy: 0.9863 - val_loss: 0.1144 - val_accuracy: 0.9676\n",
      "Epoch 11/30\n",
      "840/840 [==============================] - 2s 3ms/step - loss: 0.0441 - accuracy: 0.9884 - val_loss: 0.1111 - val_accuracy: 0.9676\n",
      "Epoch 12/30\n",
      "840/840 [==============================] - 2s 3ms/step - loss: 0.0371 - accuracy: 0.9909 - val_loss: 0.1100 - val_accuracy: 0.9665\n",
      "Epoch 13/30\n",
      "840/840 [==============================] - 3s 3ms/step - loss: 0.0336 - accuracy: 0.9916 - val_loss: 0.1112 - val_accuracy: 0.9689\n",
      "Epoch 14/30\n",
      "840/840 [==============================] - 2s 3ms/step - loss: 0.0292 - accuracy: 0.9927 - val_loss: 0.1110 - val_accuracy: 0.9692\n",
      "Epoch 15/30\n",
      "840/840 [==============================] - 2s 3ms/step - loss: 0.0291 - accuracy: 0.9931 - val_loss: 0.1102 - val_accuracy: 0.9686\n",
      "Epoch 16/30\n",
      "840/840 [==============================] - 2s 3ms/step - loss: 0.0251 - accuracy: 0.9948 - val_loss: 0.1098 - val_accuracy: 0.9682\n",
      "Epoch 17/30\n",
      "840/840 [==============================] - 2s 3ms/step - loss: 0.0221 - accuracy: 0.9955 - val_loss: 0.1086 - val_accuracy: 0.9690\n",
      "Epoch 18/30\n",
      "840/840 [==============================] - 2s 3ms/step - loss: 0.0191 - accuracy: 0.9961 - val_loss: 0.1113 - val_accuracy: 0.9688\n",
      "Epoch 19/30\n",
      "840/840 [==============================] - 2s 3ms/step - loss: 0.0183 - accuracy: 0.9963 - val_loss: 0.1096 - val_accuracy: 0.9695\n",
      "Epoch 20/30\n",
      "840/840 [==============================] - 3s 3ms/step - loss: 0.0172 - accuracy: 0.9964 - val_loss: 0.1116 - val_accuracy: 0.9685\n",
      "Epoch 21/30\n",
      "840/840 [==============================] - 3s 3ms/step - loss: 0.0163 - accuracy: 0.9963 - val_loss: 0.1116 - val_accuracy: 0.9686\n",
      "Epoch 22/30\n",
      "840/840 [==============================] - 3s 3ms/step - loss: 0.0158 - accuracy: 0.9964 - val_loss: 0.1106 - val_accuracy: 0.9693\n",
      "Epoch 23/30\n",
      "840/840 [==============================] - 3s 3ms/step - loss: 0.0139 - accuracy: 0.9972 - val_loss: 0.1091 - val_accuracy: 0.9702\n",
      "Epoch 24/30\n",
      "840/840 [==============================] - 2s 3ms/step - loss: 0.0130 - accuracy: 0.9975 - val_loss: 0.1112 - val_accuracy: 0.9688\n",
      "Epoch 25/30\n",
      "840/840 [==============================] - 2s 3ms/step - loss: 0.0125 - accuracy: 0.9978 - val_loss: 0.1124 - val_accuracy: 0.9693\n",
      "Epoch 26/30\n",
      "840/840 [==============================] - 2s 3ms/step - loss: 0.0121 - accuracy: 0.9977 - val_loss: 0.1120 - val_accuracy: 0.9701\n",
      "Epoch 27/30\n",
      "840/840 [==============================] - 2s 3ms/step - loss: 0.0110 - accuracy: 0.9977 - val_loss: 0.1134 - val_accuracy: 0.9692\n"
     ]
    }
   ],
   "source": [
    "modelfit = model.fit(x_train, y_train, epochs=30,\n",
    "                    validation_data=(x_valid, y_valid),\n",
    "                    callbacks=[early_stopping])"
   ]
  },
  {
   "cell_type": "code",
   "execution_count": 22,
   "id": "34e7d947",
   "metadata": {
    "scrolled": false
   },
   "outputs": [
    {
     "data": {
      "image/png": "[encoded data removed]",
      "text/plain": [
       "<Figure size 800x500 with 1 Axes>"
      ]
     },
     "metadata": {},
     "output_type": "display_data"
    }
   ],
   "source": [
    "pd.DataFrame(modelfit.history).plot(figsize=(8, 5))\n",
    "plt.grid(True)\n",
    "plt.gca().set_ylim(0, 1)\n",
    "plt.show()"
   ]
  },
  {
   "cell_type": "code",
   "execution_count": 23,
   "id": "d24905c8",
   "metadata": {},
   "outputs": [
    {
     "name": "stdout",
     "output_type": "stream",
     "text": [
      "263/263 [==============================] - 0s 1ms/step - loss: 0.1017 - accuracy: 0.9695\n",
      "Test accuracy: 0.9695237874984741\n"
     ]
    }
   ],
   "source": [
    "score = model.evaluate(x_test, y_test)\n",
    "print('Test accuracy:', score[1])"
   ]
  },
  {
   "cell_type": "code",
   "execution_count": 24,
   "id": "6b8a3b8e",
   "metadata": {},
   "outputs": [
    {
     "name": "stdout",
     "output_type": "stream",
     "text": [
      "1/1 [==============================] - 0s 16ms/step\n"
     ]
    },
    {
     "data": {
      "text/plain": [
       "array([8, 1, 9, 9, 8], dtype=int64)"
      ]
     },
     "execution_count": 24,
     "metadata": {},
     "output_type": "execute_result"
    }
   ],
   "source": [
    "x_predict = x_test[:5]\n",
    "y_pred = np.argmax(model.predict(x_predict), axis=-1)\n",
    "y_pred"
   ]
  },
  {
   "cell_type": "code",
   "execution_count": 25,
   "id": "fa180fd6",
   "metadata": {},
   "outputs": [],
   "source": [
    "test = test.values.astype('float32')\n",
    "test = test.reshape(test.shape[0],28,28)"
   ]
  },
  {
   "cell_type": "code",
   "execution_count": 26,
   "id": "03c2bf6f",
   "metadata": {
    "scrolled": true
   },
   "outputs": [
    {
     "name": "stdout",
     "output_type": "stream",
     "text": [
      "875/875 [==============================] - 1s 1ms/step\n"
     ]
    }
   ],
   "source": [
    "yhat = model.predict(test)"
   ]
  },
  {
   "cell_type": "code",
   "execution_count": 27,
   "id": "008ab426",
   "metadata": {},
   "outputs": [],
   "source": [
    "y_print= np.argmax(yhat,axis=-1)"
   ]
  },
  {
   "cell_type": "code",
   "execution_count": 28,
   "id": "f0694cd8",
   "metadata": {},
   "outputs": [
    {
     "data": {
      "text/plain": [
       "array([2, 0, 9, ..., 3, 9, 2], dtype=int64)"
      ]
     },
     "execution_count": 28,
     "metadata": {},
     "output_type": "execute_result"
    }
   ],
   "source": [
    "y_print"
   ]
  },
  {
   "cell_type": "code",
   "execution_count": 30,
   "id": "007629cd",
   "metadata": {},
   "outputs": [],
   "source": [
    "pixels = Originaldata.iloc[:,1:].values.astype('float32')\n",
    "y=Originaldata.iloc[:,0].values.astype('int32')\n",
    "pixels = np.multiply(pixels, 1.0 / 255.0)\n",
    "pixels=pixels.reshape(-1,28,28,1)\n",
    "test = pd.read_csv(\"Data/test.csv\")\n",
    "test=test.values.reshape(-1,28,28,1)"
   ]
  },
  {
   "cell_type": "code",
   "execution_count": 31,
   "id": "8426ef25",
   "metadata": {},
   "outputs": [],
   "source": [
    "x_train_full, x_test, y_train_full, y_test = train_test_split(\n",
    "   pixels, y, random_state=23,test_size=0.2)\n",
    "x_train, x_valid, y_train, y_valid = train_test_split(\n",
    "    x_train_full, y_train_full, random_state=23,test_size=0.5)"
   ]
  },
  {
   "cell_type": "code",
   "execution_count": 32,
   "id": "e96e1106",
   "metadata": {},
   "outputs": [
    {
     "name": "stdout",
     "output_type": "stream",
     "text": [
      "x_train shape: {} (16800, 28, 28, 1)\n",
      "y_train shape: (16800,)\n",
      "x_valid shape: (16800, 28, 28, 1)\n",
      "y_valid shape: (16800,)\n",
      "x_test(train.csv) shape: (8400, 28, 28, 1)\n",
      "y_test(train.csv) shape: (8400,)\n",
      "test (test.csv) shape: (28000, 28, 28, 1)\n"
     ]
    }
   ],
   "source": [
    "print(\"x_train shape: {}\",x_train.shape)\n",
    "print(\"y_train shape:\",y_train.shape)\n",
    "print(\"x_valid shape:\",x_valid.shape)\n",
    "print(\"y_valid shape:\",y_valid.shape)\n",
    "print(\"x_test(train.csv) shape:\",x_test.shape)\n",
    "print(\"y_test(train.csv) shape:\",y_test.shape)\n",
    "print(\"test (test.csv) shape:\",test.shape)"
   ]
  },
  {
   "cell_type": "code",
   "execution_count": 69,
   "id": "b26bbb92",
   "metadata": {},
   "outputs": [
    {
     "name": "stdout",
     "output_type": "stream",
     "text": [
      "Model: \"sequential\"\n",
      "_________________________________________________________________\n",
      " Layer (type)                Output Shape              Param #   \n",
      "=================================================================\n",
      " conv2d (Conv2D)             (None, 26, 26, 6)         60        \n",
      "                                                                 \n",
      " average_pooling2d (AverageP  (None, 13, 13, 6)        0         \n",
      " ooling2D)                                                       \n",
      "                                                                 \n",
      " conv2d_1 (Conv2D)           (None, 11, 11, 16)        880       \n",
      "                                                                 \n",
      " average_pooling2d_1 (Averag  (None, 5, 5, 16)         0         \n",
      " ePooling2D)                                                     \n",
      "                                                                 \n",
      " flatten (Flatten)           (None, 400)               0         \n",
      "                                                                 \n",
      " dense (Dense)               (None, 200)               80200     \n",
      "                                                                 \n",
      " dense_1 (Dense)             (None, 100)               20100     \n",
      "                                                                 \n",
      " dense_2 (Dense)             (None, 10)                1010      \n",
      "                                                                 \n",
      "=================================================================\n",
      "Total params: 102,250\n",
      "Trainable params: 102,250\n",
      "Non-trainable params: 0\n",
      "_________________________________________________________________\n"
     ]
    }
   ],
   "source": [
    "keras.backend.clear_session()\n",
    "\n",
    "cnn=keras.models.Sequential([\n",
    "    keras.layers.Conv2D(filters=6, kernel_size=(3, 3), activation=my_elu, input_shape=(28,28,1),\n",
    "                        kernel_initializer=he_initialization),\n",
    "    keras.layers.AveragePooling2D(),\n",
    "    keras.layers.Conv2D(filters=16, kernel_size=(3, 3), activation=my_elu,kernel_initializer=he_initialization),\n",
    "    keras.layers.AveragePooling2D(),\n",
    "    keras.layers.Flatten(),\n",
    "    keras.layers.Dense(units=200, activation=my_elu,kernel_initializer=he_initialization),\n",
    "    keras.layers.Dense(units=100, activation=my_elu,kernel_initializer=he_initialization),\n",
    "    keras.layers.Dense(units=10, activation = 'softmax')\n",
    "])\n",
    "cnn.summary()"
   ]
  },
  {
   "cell_type": "code",
   "execution_count": 70,
   "id": "b52a7fd7",
   "metadata": {},
   "outputs": [],
   "source": [
    "cnn.compile(loss=\"sparse_categorical_crossentropy\", \n",
    "              optimizer=RMSprop(learning_rate=0.001), \n",
    "              metrics=[\"accuracy\"])"
   ]
  },
  {
   "cell_type": "code",
   "execution_count": 71,
   "id": "21bd2e4c",
   "metadata": {
    "scrolled": true
   },
   "outputs": [
    {
     "name": "stdout",
     "output_type": "stream",
     "text": [
      "Epoch 1/50\n",
      "33/33 [==============================] - 4s 96ms/step - loss: 0.9640 - accuracy: 0.7636 - val_loss: 0.4396 - val_accuracy: 0.8542\n",
      "Epoch 2/50\n",
      "33/33 [==============================] - 3s 89ms/step - loss: 0.3060 - accuracy: 0.9050 - val_loss: 0.2061 - val_accuracy: 0.9365\n",
      "Epoch 3/50\n",
      "33/33 [==============================] - 3s 89ms/step - loss: 0.1964 - accuracy: 0.9401 - val_loss: 0.1817 - val_accuracy: 0.9449\n",
      "Epoch 4/50\n",
      "33/33 [==============================] - 3s 89ms/step - loss: 0.1424 - accuracy: 0.9555 - val_loss: 0.1499 - val_accuracy: 0.9530\n",
      "Epoch 5/50\n",
      "33/33 [==============================] - 3s 90ms/step - loss: 0.1219 - accuracy: 0.9612 - val_loss: 0.1712 - val_accuracy: 0.9489\n",
      "Epoch 6/50\n",
      "33/33 [==============================] - 3s 90ms/step - loss: 0.0847 - accuracy: 0.9736 - val_loss: 0.1647 - val_accuracy: 0.9503\n",
      "Epoch 7/50\n",
      "33/33 [==============================] - 3s 91ms/step - loss: 0.0779 - accuracy: 0.9745 - val_loss: 0.1547 - val_accuracy: 0.9545\n",
      "Epoch 8/50\n",
      "33/33 [==============================] - 3s 84ms/step - loss: 0.0649 - accuracy: 0.9788 - val_loss: 0.1054 - val_accuracy: 0.9682\n",
      "Epoch 9/50\n",
      "33/33 [==============================] - 3s 85ms/step - loss: 0.0534 - accuracy: 0.9828 - val_loss: 0.1061 - val_accuracy: 0.9689\n",
      "Epoch 10/50\n",
      "33/33 [==============================] - 3s 83ms/step - loss: 0.0439 - accuracy: 0.9854 - val_loss: 0.1265 - val_accuracy: 0.9645\n",
      "Epoch 11/50\n",
      "33/33 [==============================] - 3s 84ms/step - loss: 0.0368 - accuracy: 0.9890 - val_loss: 0.1115 - val_accuracy: 0.9685\n",
      "Epoch 12/50\n",
      "33/33 [==============================] - 3s 83ms/step - loss: 0.0323 - accuracy: 0.9903 - val_loss: 0.1094 - val_accuracy: 0.9709\n",
      "Epoch 13/50\n",
      "33/33 [==============================] - 3s 83ms/step - loss: 0.0321 - accuracy: 0.9891 - val_loss: 0.1106 - val_accuracy: 0.9710\n",
      "Epoch 14/50\n",
      "33/33 [==============================] - 3s 82ms/step - loss: 0.0218 - accuracy: 0.9930 - val_loss: 0.1035 - val_accuracy: 0.9712\n",
      "Epoch 15/50\n",
      "33/33 [==============================] - 3s 82ms/step - loss: 0.0192 - accuracy: 0.9940 - val_loss: 0.1073 - val_accuracy: 0.9710\n",
      "Epoch 16/50\n",
      "33/33 [==============================] - 3s 84ms/step - loss: 0.0179 - accuracy: 0.9940 - val_loss: 0.1533 - val_accuracy: 0.9602\n",
      "Epoch 17/50\n",
      "33/33 [==============================] - 3s 82ms/step - loss: 0.0145 - accuracy: 0.9958 - val_loss: 0.1006 - val_accuracy: 0.9766\n",
      "Epoch 18/50\n",
      "33/33 [==============================] - 3s 82ms/step - loss: 0.0148 - accuracy: 0.9955 - val_loss: 0.1064 - val_accuracy: 0.9745\n",
      "Epoch 19/50\n",
      "33/33 [==============================] - 3s 84ms/step - loss: 0.0097 - accuracy: 0.9972 - val_loss: 0.1032 - val_accuracy: 0.9749\n",
      "Epoch 20/50\n",
      "33/33 [==============================] - 3s 85ms/step - loss: 0.0107 - accuracy: 0.9966 - val_loss: 0.1096 - val_accuracy: 0.9742\n",
      "Epoch 21/50\n",
      "33/33 [==============================] - 3s 84ms/step - loss: 0.0102 - accuracy: 0.9978 - val_loss: 0.1018 - val_accuracy: 0.9775\n",
      "Epoch 22/50\n",
      "33/33 [==============================] - 3s 82ms/step - loss: 0.0100 - accuracy: 0.9974 - val_loss: 0.1186 - val_accuracy: 0.9748\n",
      "Epoch 23/50\n",
      "33/33 [==============================] - 3s 82ms/step - loss: 0.0114 - accuracy: 0.9972 - val_loss: 0.1052 - val_accuracy: 0.9773\n",
      "Epoch 24/50\n",
      "33/33 [==============================] - 3s 84ms/step - loss: 0.0078 - accuracy: 0.9979 - val_loss: 0.1080 - val_accuracy: 0.9759\n",
      "Epoch 25/50\n",
      "33/33 [==============================] - 3s 84ms/step - loss: 0.0050 - accuracy: 0.9985 - val_loss: 0.1330 - val_accuracy: 0.9730\n",
      "Epoch 26/50\n",
      "33/33 [==============================] - 3s 86ms/step - loss: 0.0050 - accuracy: 0.9987 - val_loss: 0.1229 - val_accuracy: 0.9760\n",
      "Epoch 27/50\n",
      "33/33 [==============================] - 3s 84ms/step - loss: 0.0071 - accuracy: 0.9979 - val_loss: 0.1320 - val_accuracy: 0.9719\n"
     ]
    }
   ],
   "source": [
    "cnn_history = cnn.fit(x_train, y_train, \n",
    "                        epochs=50, \n",
    "                        validation_data=(x_valid, y_valid),\n",
    "                        callbacks=[early_stopping],\n",
    "                       batch_size=512)"
   ]
  },
  {
   "cell_type": "code",
   "execution_count": 72,
   "id": "b5d2749b",
   "metadata": {},
   "outputs": [
    {
     "data": {
      "image/png": "[encoded data removed]",
      "text/plain": [
       "<Figure size 800x500 with 1 Axes>"
      ]
     },
     "metadata": {},
     "output_type": "display_data"
    }
   ],
   "source": [
    "pd.DataFrame(cnn_history.history).plot(figsize=(8, 5))\n",
    "plt.grid(True)\n",
    "plt.gca().set_ylim(0, 1.2)\n",
    "plt.show()"
   ]
  },
  {
   "cell_type": "code",
   "execution_count": 73,
   "id": "8a078101",
   "metadata": {},
   "outputs": [
    {
     "name": "stdout",
     "output_type": "stream",
     "text": [
      "263/263 [==============================] - 1s 3ms/step - loss: 0.0824 - accuracy: 0.9768\n"
     ]
    }
   ],
   "source": [
    "x_test=x_test.reshape(-1,28,28,1)\n",
    "score = cnn.evaluate(x_test, y_test)"
   ]
  },
  {
   "cell_type": "code",
   "execution_count": 74,
   "id": "824b8eec",
   "metadata": {},
   "outputs": [
    {
     "name": "stdout",
     "output_type": "stream",
     "text": [
      "Test loss: 0.0824420377612114\n",
      "Test accuracy: 0.9767857193946838\n"
     ]
    }
   ],
   "source": [
    "print('Test loss:', score[0]) \n",
    "print('Test accuracy:', score[1])"
   ]
  },
  {
   "cell_type": "code",
   "execution_count": 75,
   "id": "4acb06d3",
   "metadata": {},
   "outputs": [
    {
     "name": "stdout",
     "output_type": "stream",
     "text": [
      "875/875 [==============================] - 1s 1ms/step\n"
     ]
    }
   ],
   "source": [
    "yhat = model.predict(test)"
   ]
  },
  {
   "cell_type": "code",
   "execution_count": 76,
   "id": "fe761dc0",
   "metadata": {},
   "outputs": [
    {
     "data": {
      "text/plain": [
       "array([2, 1, 3, ..., 3, 1, 2], dtype=int64)"
      ]
     },
     "execution_count": 76,
     "metadata": {},
     "output_type": "execute_result"
    }
   ],
   "source": [
    "y_print= np.argmax(yhat,axis=-1)\n",
    "y_print"
   ]
  },
  {
   "cell_type": "code",
   "execution_count": null,
   "id": "c457664c",
   "metadata": {},
   "outputs": [],
   "source": []
  }
 ],
 "metadata": {
  "kernelspec": {
   "display_name": "Python 3 (ipykernel)",
   "language": "python",
   "name": "python3"
  },
  "language_info": {
   "codemirror_mode": {
    "name": "ipython",
    "version": 3
   },
   "file_extension": ".py",
   "mimetype": "text/x-python",
   "name": "python",
   "nbconvert_exporter": "python",
   "pygments_lexer": "ipython3",
   "version": "3.9.13"
  }
 },
 "nbformat": 4,
 "nbformat_minor": 5
}
